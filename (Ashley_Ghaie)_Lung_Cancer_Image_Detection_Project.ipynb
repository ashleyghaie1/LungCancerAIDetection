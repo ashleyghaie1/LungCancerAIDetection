{
  "nbformat": 4,
  "nbformat_minor": 0,
  "metadata": {
    "colab": {
      "provenance": [],
      "authorship_tag": "ABX9TyMxWIwkTI9/imev46A5dG6a",
      "include_colab_link": true
    },
    "kernelspec": {
      "name": "python3",
      "display_name": "Python 3"
    },
    "language_info": {
      "name": "python"
    }
  },
  "cells": [
    {
      "cell_type": "markdown",
      "metadata": {
        "id": "view-in-github",
        "colab_type": "text"
      },
      "source": [
        "<a href=\"https://colab.research.google.com/github/ashleyghaie1/LungCancerAIDetection/blob/main/(Ashley_Ghaie)_Lung_Cancer_Image_Detection_Project.ipynb\" target=\"_parent\"><img src=\"https://colab.research.google.com/assets/colab-badge.svg\" alt=\"Open In Colab\"/></a>"
      ]
    },
    {
      "cell_type": "markdown",
      "source": [
        "# Imports"
      ],
      "metadata": {
        "id": "Q2zd0uR60LPz"
      }
    },
    {
      "cell_type": "code",
      "source": [
        "import torch\n",
        "from torchvision.models.resnet import resnet101\n",
        "import torchvision.transforms as transforms\n",
        "import torchvision.datasets as datasets\n",
        "import torch.nn as nn\n",
        "import torch.optim as optim\n",
        "from torch.utils.data import DataLoader, random_split\n",
        "from sklearn.metrics import f1_score, accuracy_score, confusion_matrix\n",
        "import numpy as np"
      ],
      "metadata": {
        "id": "1j1burgD0JHc"
      },
      "execution_count": null,
      "outputs": []
    },
    {
      "cell_type": "markdown",
      "source": [
        "# Mount Google Drive and Begin Import of Datasets"
      ],
      "metadata": {
        "id": "plhdxQl_yRfM"
      }
    },
    {
      "cell_type": "code",
      "source": [
        "from google.colab import drive\n",
        "drive.mount('/content/drive', force_remount=True)\n",
        "\n",
        "#Data Set path for testing and trial of code\n",
        "testFilePath = \"/content/drive/MyDrive/Colab Notebooks/Lung Cancer Image Detection Project/Lung_Cancer_Test\"\n",
        "\n",
        "#Data Set path for dataset 1\n",
        "dataset1FilePath = \"/content/drive/MyDrive/Colab Notebooks/Lung Cancer Image Detection Project/dataset 1\"\n",
        "\n",
        "#Data Set path for dataset 2\n",
        "dataset2FilePath = \"/content/drive/MyDrive/Colab Notebooks/Lung Cancer Image Detection Project/dataset 2\"\n",
        "\n",
        "#Data Set path for dataset 3\n",
        "dataset3FilePath = \"/content/drive/MyDrive/Colab Notebooks/Lung Cancer Image Detection Project/dataset 3\""
      ],
      "metadata": {
        "colab": {
          "base_uri": "https://localhost:8080/"
        },
        "id": "fm5HkFEmyRPE",
        "outputId": "5be0f402-6303-41bb-8fbe-0d6bd82320d6"
      },
      "execution_count": null,
      "outputs": [
        {
          "output_type": "stream",
          "name": "stdout",
          "text": [
            "Mounted at /content/drive\n"
          ]
        }
      ]
    },
    {
      "cell_type": "markdown",
      "source": [
        "# Custom Made Function for Loading in Different Datasets"
      ],
      "metadata": {
        "id": "Xon1RluqLcNF"
      }
    },
    {
      "cell_type": "code",
      "source": [
        "def loadDataset(trainPath, testPath, FLAG=False):\n",
        "  #Adjusts the images to align with the input ResNet101 expects for images\n",
        "  transform = transforms.Compose([\n",
        "    transforms.Resize((224, 224)),  # Resize images to match ResNet input size\n",
        "    transforms.ToTensor(),\n",
        "    transforms.Normalize(mean=[0.485, 0.456, 0.406], std=[0.229, 0.224, 0.225]) # Normalize with ImageNet statistics\n",
        "  ])\n",
        "\n",
        "  if FLAG:\n",
        "    fullDataset = datasets.ImageFolder(root=trainPath, transform=transform)\n",
        "\n",
        "    trainSize = int(0.8 * len(fullDataset))\n",
        "    testSize = len(fullDataset) - trainSize\n",
        "\n",
        "    trainDataset, testDataset = random_split(fullDataset, [trainSize, testSize])\n",
        "    trainDataset.indices\n",
        "\n",
        "    trainLoader = DataLoader(trainDataset, batch_size=32, shuffle=True)\n",
        "    testLoader = DataLoader(datasets.ImageFolder(root=testPath, transform=transform), batch_size=32, shuffle=False)\n",
        "\n",
        "    print(\"Classes [0 - 1]:\", fullDataset.classes)\n",
        "    print(\"Number of images in the dataset:\", len(fullDataset))\n",
        "    print(\"Number of training images:\", len(trainDataset))\n",
        "    print(\"Number of testing images:\", len(testDataset))\n",
        "\n",
        "    return trainLoader, testLoader\n",
        "\n",
        "  datasetTrain = datasets.ImageFolder(root=trainPath, transform=transform)\n",
        "  print(datasetTrain.classes)\n",
        "  print(datasetTrain.class_to_idx)\n",
        "\n",
        "  datasetTest = datasets.ImageFolder(root=testPath, transform=transform)\n",
        "  print(datasetTest.classes)\n",
        "  print(datasetTest.class_to_idx)\n",
        "\n",
        "  trainLoader = DataLoader(datasetTrain, batch_size=32, shuffle=True)\n",
        "  testLoader = DataLoader(datasetTest, batch_size=32, shuffle=False)\n",
        "\n",
        "  return trainLoader, testLoader"
      ],
      "metadata": {
        "id": "Vu9kaleDGwd2"
      },
      "execution_count": null,
      "outputs": []
    },
    {
      "cell_type": "markdown",
      "source": [
        "# ResNet101 Model and Training for Cancerous and Normal Lung Images Function"
      ],
      "metadata": {
        "id": "qxbkT7MwLpq9"
      }
    },
    {
      "cell_type": "code",
      "source": [
        "#If there is a GPU use that and if not, use the CPU for processing\n",
        "device = torch.device(\"cuda\" if torch.cuda.is_available() else \"cpu\")\n",
        "def loadResNetModel(trainLoader):\n",
        "  model = resnet101(pretrained=False)\n",
        "  numClasses = 2 #cancer and normal\n",
        "  model.fc = nn.Linear(model.fc.in_features, numClasses)\n",
        "\n",
        "  #Loss and Optimizer\n",
        "  criterion = nn.CrossEntropyLoss()\n",
        "  optimizer = optim.Adam(model.parameters(), lr=0.001)\n",
        "\n",
        "  #Training\n",
        "  num_epochs = 1 #Number of runs for the entire dataset (10 times usually)\n",
        "  model.to(device)\n",
        "\n",
        "  for epoch in range(num_epochs):\n",
        "    model.train()\n",
        "    for inputs, labels in trainLoader:\n",
        "      inputs, labels = inputs.to(device), labels.to(device)\n",
        "\n",
        "      optimizer.zero_grad()\n",
        "      outputs = model(inputs)\n",
        "      loss = criterion(outputs, labels)\n",
        "      loss.backward()\n",
        "      optimizer.step()\n",
        "\n",
        "    print(f\"Epoch {epoch+1}, Loss: {loss.item()}\")\n",
        "  return model"
      ],
      "metadata": {
        "id": "ayvIdR5F7AJk"
      },
      "execution_count": null,
      "outputs": []
    },
    {
      "cell_type": "markdown",
      "source": [
        "# Testing the Model Function"
      ],
      "metadata": {
        "id": "yd8sORrhL6kd"
      }
    },
    {
      "cell_type": "code",
      "source": [
        "def testModel(model, testLoader):\n",
        "  # Testing and evaluation\n",
        "  allLabels = []\n",
        "  allPredictions = []\n",
        "\n",
        "  with torch.no_grad():\n",
        "      model.eval()\n",
        "      for images, labels in testLoader:\n",
        "          images, labels = images.to(device), labels.to(device)\n",
        "          outputs = model(images)\n",
        "          _, predicted = torch.max(outputs.data, 1)\n",
        "          allLabels.extend(labels.cpu().numpy())\n",
        "          allPredictions.extend(predicted.cpu().numpy())\n",
        "\n",
        "  # Calculate metrics\n",
        "  f1 = f1_score(allLabels, allPredictions, average='weighted')\n",
        "  accuracy = accuracy_score(allLabels, allPredictions)\n",
        "  confMatrix = confusion_matrix(allLabels, allPredictions)\n",
        "\n",
        "  print(f\"The Accuracy is: {accuracy}\")\n",
        "  print(f\"The Calculated F1 Score is: {f1}\")\n",
        "  print(\"Confusion Matrix:   [True Positive, False Negative]\\n\",\n",
        "    \"                   [False Positive, True Negative]\\n\")\n",
        "  print(confMatrix)"
      ],
      "metadata": {
        "id": "JqnI3Z4QB83b"
      },
      "execution_count": null,
      "outputs": []
    },
    {
      "cell_type": "markdown",
      "source": [
        "#Training and Testing the Test Dataset for Debugging"
      ],
      "metadata": {
        "id": "-D4lKdsLgPEk"
      }
    },
    {
      "cell_type": "code",
      "source": [
        "#trainLoader, testLoader = loadDataset(testFilePath + \"/train/\", testFilePath + \"/test/\")"
      ],
      "metadata": {
        "id": "rvbvAUT_gOjW"
      },
      "execution_count": null,
      "outputs": []
    },
    {
      "cell_type": "code",
      "source": [
        "#testResNetModel = loadResNetModel(trainLoader)"
      ],
      "metadata": {
        "id": "Bm-ECQH0h4SV"
      },
      "execution_count": null,
      "outputs": []
    },
    {
      "cell_type": "code",
      "source": [
        "#testModel(testResNetModel, testLoader)"
      ],
      "metadata": {
        "id": "R7IEtG9uh6El"
      },
      "execution_count": null,
      "outputs": []
    },
    {
      "cell_type": "markdown",
      "source": [
        "#Training and Testing Dataset 1\n",
        "https://www.kaggle.com/datasets/diayruldip/carinocroma"
      ],
      "metadata": {
        "id": "53aqLcGEgVDu"
      }
    },
    {
      "cell_type": "code",
      "source": [
        "dataset1TrainLoader, dataset1TestLoader = loadDataset(dataset1FilePath + \"/train/\", dataset1FilePath + \"/test/\")"
      ],
      "metadata": {
        "colab": {
          "base_uri": "https://localhost:8080/"
        },
        "id": "tgztIS5OgYol",
        "outputId": "ee0add8a-fe10-4301-f3fb-b6dd8a0ec755"
      },
      "execution_count": null,
      "outputs": [
        {
          "output_type": "stream",
          "name": "stdout",
          "text": [
            "['cancer', 'normal']\n",
            "{'cancer': 0, 'normal': 1}\n",
            "['cancer', 'normal']\n",
            "{'cancer': 0, 'normal': 1}\n"
          ]
        }
      ]
    },
    {
      "cell_type": "code",
      "source": [
        "dataset1ResNetModel = loadResNetModel(dataset1TrainLoader)"
      ],
      "metadata": {
        "colab": {
          "base_uri": "https://localhost:8080/"
        },
        "id": "p_JavS3Ah_Ld",
        "outputId": "eb46c186-929b-4c68-cabb-8cd8d3b03c43"
      },
      "execution_count": null,
      "outputs": [
        {
          "output_type": "stream",
          "name": "stderr",
          "text": [
            "/usr/local/lib/python3.11/dist-packages/torchvision/models/_utils.py:208: UserWarning: The parameter 'pretrained' is deprecated since 0.13 and may be removed in the future, please use 'weights' instead.\n",
            "  warnings.warn(\n",
            "/usr/local/lib/python3.11/dist-packages/torchvision/models/_utils.py:223: UserWarning: Arguments other than a weight enum or `None` for 'weights' are deprecated since 0.13 and may be removed in the future. The current behavior is equivalent to passing `weights=None`.\n",
            "  warnings.warn(msg)\n"
          ]
        },
        {
          "output_type": "stream",
          "name": "stdout",
          "text": [
            "Epoch 1, Loss: 1.9852302074432373\n"
          ]
        }
      ]
    },
    {
      "cell_type": "code",
      "source": [
        "testModel(dataset1ResNetModel, dataset1TestLoader)"
      ],
      "metadata": {
        "colab": {
          "base_uri": "https://localhost:8080/"
        },
        "id": "B1fOwd39h_bk",
        "outputId": "8f9a6690-03cd-40f4-f804-9933d187abcc"
      },
      "execution_count": null,
      "outputs": [
        {
          "output_type": "stream",
          "name": "stdout",
          "text": [
            "The Accuracy is: 0.834920634920635\n",
            "The Calculated F1 Score is: 0.765754106520657\n",
            "Confusion Matrix:   [True Positive, False Negative]\n",
            "                    [False Positive, True Negative]\n",
            "\n",
            "[[261   0]\n",
            " [ 52   2]]\n"
          ]
        }
      ]
    },
    {
      "cell_type": "markdown",
      "source": [
        "#Training and Testing Dataset 2 (Manual image splitting of 80% training and 20% test)\n",
        "https://data.mendeley.com/datasets/p2r42nm2ty/2"
      ],
      "metadata": {
        "id": "as9v4FHZgbJv"
      }
    },
    {
      "cell_type": "code",
      "source": [
        "dataset2TrainLoader, dataset2TestLoader = loadDataset(dataset2FilePath + \"/train/\", dataset2FilePath, FLAG=True)"
      ],
      "metadata": {
        "colab": {
          "base_uri": "https://localhost:8080/"
        },
        "id": "F9DDMlghgdFG",
        "outputId": "328ce7ce-9546-43ed-f6f5-3241bcfd7806"
      },
      "execution_count": null,
      "outputs": [
        {
          "output_type": "stream",
          "name": "stdout",
          "text": [
            "Classes [0 - 1]: ['cancer', 'normal']\n",
            "Number of images in the dataset: 364\n",
            "Number of training images: 291\n",
            "Number of testing images: 73\n"
          ]
        }
      ]
    },
    {
      "cell_type": "code",
      "source": [
        "dataset2ResNetModel = loadResNetModel(dataset2TrainLoader)"
      ],
      "metadata": {
        "colab": {
          "base_uri": "https://localhost:8080/"
        },
        "id": "LuIJ-BKRiQlV",
        "outputId": "c6216689-e51b-475c-98c8-77277a7d7f71"
      },
      "execution_count": null,
      "outputs": [
        {
          "output_type": "stream",
          "name": "stderr",
          "text": [
            "/usr/local/lib/python3.11/dist-packages/torchvision/models/_utils.py:208: UserWarning: The parameter 'pretrained' is deprecated since 0.13 and may be removed in the future, please use 'weights' instead.\n",
            "  warnings.warn(\n",
            "/usr/local/lib/python3.11/dist-packages/torchvision/models/_utils.py:223: UserWarning: Arguments other than a weight enum or `None` for 'weights' are deprecated since 0.13 and may be removed in the future. The current behavior is equivalent to passing `weights=None`.\n",
            "  warnings.warn(msg)\n"
          ]
        },
        {
          "output_type": "stream",
          "name": "stdout",
          "text": [
            "Epoch 1, Loss: 0.060320913791656494\n"
          ]
        }
      ]
    },
    {
      "cell_type": "code",
      "source": [
        "testModel(dataset2ResNetModel, dataset2TestLoader)"
      ],
      "metadata": {
        "colab": {
          "base_uri": "https://localhost:8080/"
        },
        "id": "zfxMTlVaiShV",
        "outputId": "461bb3b4-1610-487e-9d15-ddd0323b2ec7"
      },
      "execution_count": null,
      "outputs": [
        {
          "output_type": "stream",
          "name": "stdout",
          "text": [
            "The Accuracy is: 0.11650485436893204\n",
            "The Calculated F1 Score is: 0.024314056563951032\n",
            "Confusion Matrix:   [True Positive, False Negative]\n",
            "                    [False Positive, True Negative]\n",
            "\n",
            "[[ 48   0]\n",
            " [364   0]]\n"
          ]
        }
      ]
    },
    {
      "cell_type": "markdown",
      "source": [
        "#Training and Testing Dataset 3 (Big Dataset with manual image splitting of 80% training and 20% test)\n",
        "https://www.kaggle.com/datasets/rm1000/lung-cancer-histopathological-images?utm_source"
      ],
      "metadata": {
        "id": "ZFyeSHVhtPaX"
      }
    },
    {
      "cell_type": "code",
      "source": [
        "dataset3TrainLoader, dataset3TestLoader = loadDataset(dataset3FilePath + \"/train/\", dataset3FilePath, FLAG=True)"
      ],
      "metadata": {
        "colab": {
          "base_uri": "https://localhost:8080/"
        },
        "id": "mJGl4-J-trES",
        "outputId": "89532a82-f740-4335-b4d8-8ae9aee48384"
      },
      "execution_count": null,
      "outputs": [
        {
          "output_type": "stream",
          "name": "stdout",
          "text": [
            "Classes [0 - 1]: ['cancer', 'normal']\n",
            "Number of images in the dataset: 15000\n",
            "Number of training images: 12000\n",
            "Number of testing images: 3000\n"
          ]
        }
      ]
    },
    {
      "cell_type": "code",
      "source": [
        "dataset3ResNetModel = loadResNetModel(dataset3TrainLoader)"
      ],
      "metadata": {
        "colab": {
          "base_uri": "https://localhost:8080/"
        },
        "id": "yqiTcT0UtwHR",
        "outputId": "75a67104-f58a-4b6d-9ff7-1da27cbedcee"
      },
      "execution_count": null,
      "outputs": [
        {
          "output_type": "stream",
          "name": "stderr",
          "text": [
            "/usr/local/lib/python3.11/dist-packages/torchvision/models/_utils.py:208: UserWarning: The parameter 'pretrained' is deprecated since 0.13 and may be removed in the future, please use 'weights' instead.\n",
            "  warnings.warn(\n",
            "/usr/local/lib/python3.11/dist-packages/torchvision/models/_utils.py:223: UserWarning: Arguments other than a weight enum or `None` for 'weights' are deprecated since 0.13 and may be removed in the future. The current behavior is equivalent to passing `weights=None`.\n",
            "  warnings.warn(msg)\n"
          ]
        },
        {
          "output_type": "stream",
          "name": "stdout",
          "text": [
            "Epoch 1, Loss: 0.009985128417611122\n"
          ]
        }
      ]
    },
    {
      "cell_type": "code",
      "source": [
        "testModel(dataset3ResNetModel, dataset3TestLoader)"
      ],
      "metadata": {
        "colab": {
          "base_uri": "https://localhost:8080/"
        },
        "id": "MMnhakMmtyB8",
        "outputId": "e9497159-0a11-4a63-c6bf-c1dcd7a1aec7"
      },
      "execution_count": null,
      "outputs": [
        {
          "output_type": "stream",
          "name": "stdout",
          "text": [
            "The Accuracy is: 0.6496666666666666\n",
            "The Calculated F1 Score is: 0.787633865427359\n",
            "Confusion Matrix:   [True Positive, False Negative]\n",
            "                    [False Positive, True Negative]\n",
            "\n",
            "[[9745 5255]\n",
            " [   0    0]]\n"
          ]
        }
      ]
    },
    {
      "cell_type": "markdown",
      "source": [
        "#Cross Testing of Datasets"
      ],
      "metadata": {
        "id": "trBaQgSUjI99"
      }
    },
    {
      "cell_type": "markdown",
      "source": [
        "##Testing Dataset 1 ResNet101 model"
      ],
      "metadata": {
        "id": "yIulFPnzkGjt"
      }
    },
    {
      "cell_type": "code",
      "source": [
        "print(\"Testing ResNet101 Model Trained with Dataset 1:\\n\\n\")\n",
        "print(\"Testing with Dataset 2 Images\\n\")\n",
        "testModel(dataset1ResNetModel, dataset2TestLoader)\n",
        "\n",
        "print(\"Testing with Dataset 3 Images\\n\")\n",
        "testModel(dataset1ResNetModel, dataset3TestLoader)"
      ],
      "metadata": {
        "colab": {
          "base_uri": "https://localhost:8080/"
        },
        "id": "yXRjnmbOjOQz",
        "outputId": "eb8b20cd-6b1e-41da-a11b-d0c0bc5e520d"
      },
      "execution_count": null,
      "outputs": [
        {
          "output_type": "stream",
          "name": "stdout",
          "text": [
            "Testing ResNet101 Model Trained with Dataset 1:\n",
            "\n",
            "\n",
            "Testing with Dataset 2 Images\n",
            "\n",
            "The Accuracy is: 0.12378640776699029\n",
            "The Calculated F1 Score is: 0.03891772976494376\n",
            "Confusion Matrix:   [True Positive, False Negative]\n",
            "                    [False Positive, True Negative]\n",
            "\n",
            "[[ 48   0]\n",
            " [361   3]]\n",
            "Testing with Dataset 3 Images\n",
            "\n"
          ]
        }
      ]
    },
    {
      "cell_type": "markdown",
      "source": [
        "##Testing Dataset 2 ResNet101 model"
      ],
      "metadata": {
        "id": "hjVaZjg2kPKF"
      }
    },
    {
      "cell_type": "code",
      "source": [
        "print(\"Testing ResNet101 Model Trained with Dataset 2:\\n\\n\")\n",
        "print(\"Testing with Dataset 1 Images\\n\")\n",
        "testModel(dataset2ResNetModel, dataset1TestLoader)\n",
        "\n",
        "print(\"Testing with Dataset 3 Images\\n\")\n",
        "testModel(dataset2ResNetModel, dataset3TestLoader)"
      ],
      "metadata": {
        "id": "y2b8dfnHjZ9Z"
      },
      "execution_count": null,
      "outputs": []
    },
    {
      "cell_type": "markdown",
      "source": [
        "##Testing Dataset 3 ResNet101 model"
      ],
      "metadata": {
        "id": "gWMkASxuurw7"
      }
    },
    {
      "cell_type": "code",
      "source": [
        "print(\"Testing ResNet101 Model Trained with Dataset 3:\\n\\n\")\n",
        "print(\"Testing with Dataset 1 Images\\n\")\n",
        "testModel(dataset3ResNetModel, dataset1TestLoader)\n",
        "\n",
        "print(\"Testing with Dataset 2 Images\\n\")\n",
        "testModel(dataset3ResNetModel, dataset2TestLoader)"
      ],
      "metadata": {
        "id": "lKN_ETxmusQu"
      },
      "execution_count": null,
      "outputs": []
    }
  ]
}